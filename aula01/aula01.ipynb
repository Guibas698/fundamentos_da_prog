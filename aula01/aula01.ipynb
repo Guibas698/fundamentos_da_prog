{
 "cells": [
  {
   "cell_type": "markdown",
   "metadata": {},
   "source": [
    "## 1. História e Importância da Linguagem C\n",
    "\n",
    "---\n",
    "\n",
    "A linguagem C é uma das mais importantes e influentes da história da computação. Criada na década de 1970, ela se tornou a base para diversas outras linguagens e é amplamente utilizada até hoje."
   ]
  },
  {
   "cell_type": "markdown",
   "metadata": {},
   "source": [
    "## 2. Estrutura Básica de um Programa em C\n",
    "\n",
    "---"
   ]
  },
  {
   "cell_type": "markdown",
   "metadata": {},
   "source": [
    "## no topo do programa, incluímos as bibliotecas necessárias\n",
    "```c\n",
    "#include <stdio.h>\n",
    "#include <stdlib.h>\n",
    "#include <string.h>\n",
    "#include <math.h>\n",
    "```\n",
    "## após as bibliotecas, declaramos as funções que serão utilizadas\n",
    "podendo elas serem funções criadas pelo programador ou funções de bibliotecas\n",
    "```c\n",
    "int soma(int a, int b);\n",
    "float media(float a, float b);\n",
    "```\n",
    "## a função principal do programa é a função main\n",
    "```c\n",
    "int main(){\n",
    "    printf(\"Hello World\\n\");\n",
    "    return 0;\n",
    "}\n",
    "\n",
    "```\n",
    "\n"
   ]
  },
  {
   "cell_type": "markdown",
   "metadata": {},
   "source": [
    "## estrutura na pratica de um programa em C\n",
    "```c"
   ]
  },
  {
   "cell_type": "markdown",
   "metadata": {},
   "source": [
    "```c\n",
    "#include <stdio.h> // Biblioteca padrão de entrada e saída\n",
    "\n",
    "int main() {\n",
    "    // Código principal do programa\n",
    "    printf(\"Hello World\\n\");\n",
    "    \n",
    "    return 0; // Indica que o programa terminou corretamente\n",
    "}\n"
   ]
  },
  {
   "cell_type": "markdown",
   "metadata": {},
   "source": [
    "## agora vamos testar o código acima \n",
    "leia o README.md para saber como compilar e executar o código\n",
    "```"
   ]
  },
  {
   "cell_type": "markdown",
   "metadata": {},
   "source": [
    "## entrada e saida de dados\n",
    "a função printf é utilizada para imprimir na tela\n",
    "```c\n",
    "printf(\"Hello World\\n\");\n",
    "```\n",
    "a função scanf é utilizada para ler dados do teclado\n",
    "```c\n",
    "int a; // declaração de uma variável inteira veremos mais sobre na próxima aula \n",
    "scanf(\"%d\", &a);\n",
    "```\n",
    "\n"
   ]
  },
  {
   "cell_type": "markdown",
   "metadata": {},
   "source": [
    "## comentários em C\n",
    "```c\n",
    "// comentário de uma linha\n",
    "\n",
    "/*\n",
    "comentário de várias linhas\n",
    "*/\n",
    "```\n",
    "\n",
    "os comentários são ignorados pelo compilador e servem para documentar o código.\n",
    "é uma boa prática de programação utilizar comentários para explicar o que o código faz ja que nem sempre o código é auto explicativo"
   ]
  },
  {
   "cell_type": "markdown",
   "metadata": {},
   "source": [
    "## conclusão\n",
    "---\n",
    "Nesta aula, aprendemos sobre a história e importância da linguagem C, bem como a estrutura básica de um programa em C. Vimos como incluir bibliotecas, declarar funções e criar a função principal do programa. Também aprendemos sobre a entrada e saída de dados e como utilizar comentários para documentar o código.\n",
    "```"
   ]
  }
 ],
 "metadata": {
  "language_info": {
   "name": "python"
  }
 },
 "nbformat": 4,
 "nbformat_minor": 2
}
