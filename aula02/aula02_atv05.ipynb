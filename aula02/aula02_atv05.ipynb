{
 "cells": [
  {
   "cell_type": "markdown",
   "metadata": {},
   "source": [
    "## Implemente um programa que recebe um tempo em segundos e transformar no formato:\n",
    "\n",
    "Hora:Minuto:Segundo"
   ]
  },
  {
   "cell_type": "markdown",
   "metadata": {},
   "source": [
    "entrada: 3641\n",
    "\n",
    "saída: 1:0:41\n",
    "\n",
    "entrada: 22067\n",
    "\n",
    "saída: 6:7:47\n",
    "\n",
    "entrada: 9934\n",
    "\n",
    "saída: 2:45:34"
   ]
  }
 ],
 "metadata": {
  "language_info": {
   "name": "python"
  }
 },
 "nbformat": 4,
 "nbformat_minor": 2
}
