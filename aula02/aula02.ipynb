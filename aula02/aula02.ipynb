{
 "cells": [
  {
   "cell_type": "markdown",
   "metadata": {},
   "source": [
    "## 1. o que são variaveis?\n",
    "Variáveis são espaços de memória que armazenam valores. em c é necessário declarar o tipo da variável antes de usá-la.\n",
    "tipos de variaveis em c:\n",
    "- int: armazena números inteiros\n",
    "- float: armazena números decimais\n",
    "- char: armazena caracteres\n",
    "- double: armazena números decimais com mais precisão\n",
    "- void: não retorna valor\n",
    "\n",
    "\n",
    "em c não existe tipo de variável string nem booleano, para strings é necessário usar um vetor de char e para booleano é necessário usar int, onde 0 é falso e qualquer outro valor é verdadeiro.\n"
   ]
  },
  {
   "cell_type": "markdown",
   "metadata": {},
   "source": [
    "## 2. como declarar variaveis?\n",
    "para declarar uma variável em c é necessário informar o tipo da variável seguido do nome da variável, por exemplo:\n",
    "```c\n",
    "int numero;\n",
    "```\n",
    "também é possível declarar e inicializar a variável ao mesmo tempo, por exemplo:\n",
    "```c\n",
    "int numero = 10;\n",
    "```"
   ]
  },
  {
   "cell_type": "markdown",
   "metadata": {},
   "source": [
    "## 3. como usar variaveis?\n",
    "para usar uma variável em c é necessário informar o nome da variável, por exemplo:\n",
    "```c\n",
    "int numero = 10;\n",
    "printf(\"%d\", numero);\n",
    "```\n",
    "também é possível fazer operações com variáveis, por exemplo:\n",
    "```c\n",
    "int numero1 = 10;\n",
    "int numero2 = 20;\n",
    "int soma = numero1 + numero2;\n",
    "printf(\"%d\", soma);\n",
    "```\n",
    "a saída do código acima será 30.\n"
   ]
  },
  {
   "cell_type": "markdown",
   "metadata": {},
   "source": [
    "## 4. como fazer operações com variaveis?\n",
    "para fazer operações com variáveis em c é necessário informar o nome da variável seguido do operador e o valor, por exemplo:\n",
    "```c\n",
    "int numero = 10;\n",
    "numero = numero + 5;\n",
    "printf(\"%d\", numero);\n",
    "```\n",
    "a saida será 15, pois a variável numero recebeu o valor 10 e depois foi somado 5, resultando em 15.\n",
    "\n"
   ]
  },
  {
   "cell_type": "markdown",
   "metadata": {},
   "source": [
    "## 4.1 como chamar as variaveis no printf?\n",
    "\n",
    "para chamar uma variável no printf é necessário informar o tipo da variável seguido de % e o nome da variável, por exemplo:\n",
    "%d para int\n",
    "%f para float\n",
    "%c para char\n",
    "%lf para double\n",
    "```c\n",
    "int numero = 10;\n",
    "printf(\"%d\", numero);\n",
    "```\n",
    "a saída será 10."
   ]
  },
  {
   "cell_type": "markdown",
   "metadata": {},
   "source": [
    "## 4.2 como usar ponto flutuante?\n",
    "\n",
    "para usar ponto flutuante em c é necessário declarar a variável como float ou double, por exemplo:\n",
    "```c\n",
    "float numero = 10.5;\n",
    "printf(\"%f\", numero);\n",
    "```\n",
    "a saída será 10.500000.\n",
    "\n",
    "em casos onde é necessario limitar a quantidade de casas decimais é necessário usar %.nf, onde n é a quantidade de casas decimais, por exemplo:\n",
    "```c\n",
    "float numero = 10.5;\n",
    "printf(\"%.2f\", numero);\n",
    "```\n",
    "a saída será 10.50.\n",
    "\n"
   ]
  },
  {
   "cell_type": "markdown",
   "metadata": {},
   "source": [
    "## 4.3 como usar char?\n",
    "\n",
    "para usar char em c é necessário declarar a variável como char, por exemplo:\n",
    "```c\n",
    "char letra = 'a';\n",
    "printf(\"%c\", letra);\n",
    "```\n",
    "a saída será a."
   ]
  },
  {
   "cell_type": "markdown",
   "metadata": {},
   "source": [
    "## 4.4 como fazer operações com char?\n",
    "\n",
    "para fazer operações com char em c é necessário declarar a variável como char e usar o operador +, por exemplo:\n",
    "```c\n",
    "char letra = 'a';\n",
    "letra = letra + 1;\n",
    "\n",
    "printf(\"%c\", letra);\n",
    "```\n",
    "a saída será b.\n",
    "\n",
    "assim como em int, é possível fazer operações de subtração, multiplicação e divisão com char.\n",
    "\n",
    "```c\t\n",
    "char letra = 'b';\n",
    "letra = letra - 1;\n",
    "\n",
    "printf(\"%c\", letra);\n",
    "```\n",
    "a saída será a.\n",
    "\n",
    "```c\n",
    "char letra = 'a';\n",
    "letra = letra * 2;\n",
    "\n",
    "printf(\"%c\", letra);\n",
    "```\n",
    "a saída será b.\n",
    "\n",
    "```c\n",
    "char letra = 'b';\n",
    "letra = letra / 2;\n",
    "\n",
    "printf(\"%c\", letra);\n",
    "```\n",
    "a saída será a.\n"
   ]
  },
  {
   "cell_type": "markdown",
   "metadata": {},
   "source": [
    "## 4.5 como fazer operações no printf?\n",
    "\n",
    "```c\n",
    "int numero1 = 10;\n",
    "int numero2 = 20;\n",
    "\n",
    "printf(\"%d\", numero1 + numero2);\n",
    "```\n",
    "a saída será 30.\n",
    "\n"
   ]
  },
  {
   "cell_type": "markdown",
   "metadata": {},
   "source": [
    "## 4.5 como usar void?\n",
    "\n",
    "para usar void em c é necessário declarar a função como void. Nesse caso a função não retorna valor. Veremos mais sobre na aula 5."
   ]
  },
  {
   "cell_type": "markdown",
   "metadata": {},
   "source": [
    "## 5. entrada e saída de dados\n",
    "\n",
    "para receber dados do usuário em c é necessário usar a função scanf, por exemplo:\n",
    "```c\n",
    "int numero;\n",
    "scanf(\"%d\", &numero);\n",
    "```\n",
    "para exibir dados para o usuário em c é necessário usar a função printf, por exemplo:\n",
    "```c\n",
    "int numero = 10;\n",
    "printf(\"%d\", numero);\n",
    "```\n",
    "a saída será 10.\n",
    "\n",
    "varios dados tambem podem ser atribuidos a uma variavel, por exemplo:\n",
    "```c\n",
    "int numero1, numero2;\n",
    "scanf(\"%d %d\", &numero1, &numero2);\n",
    "```\n"
   ]
  },
  {
   "cell_type": "markdown",
   "metadata": {},
   "source": [
    "## 6. conversão de tipos\n",
    "\n",
    "para converter um tipo de variável em outro tipo de variável em c é necessário informar o tipo da variável entre parênteses seguido do nome da variável, por exemplo:\n",
    "```c\n",
    "\n",
    "int numero = 10;\n",
    "float numero2 = (float) numero;\n",
    "printf(\"%f\", numero2);\n",
    "```\n",
    "a saída será 10.000000.\n"
   ]
  },
  {
   "cell_type": "markdown",
   "metadata": {},
   "source": [
    "## 7. operadores\n",
    "\n",
    "em c existem vários operadores, entre eles:\n",
    "- aritméticos: +, -, *, /, %\n",
    "- relacionais: ==, !=, >, <, >=, <=\n",
    "- lógicos: &&, ||, !\n",
    "- de atribuição: =, +=, -=, *=, /=, %=\n",
    "- unários: ++, --\n",
    "- ternário: ?:\n",
    "\n"
   ]
  },
  {
   "cell_type": "markdown",
   "metadata": {},
   "source": [
    "## 7.1 operadores aritméticos\n",
    "\n",
    "os operadores aritméticos em c são:\n",
    "- +: soma\n",
    "- -: subtração\n",
    "- *: multiplicação\n",
    "- /: divisão\n",
    "- %: módulo\n",
    "\n",
    "```c\n",
    "int numero1 = 10;\n",
    "int numero2 = 20;\n",
    "int soma = numero1 + numero2;\n",
    "int subtracao = numero1 - numero2;\n",
    "int multiplicacao = numero1 * numero2;\n",
    "float divisao = numero1 / numero2;\n",
    "int modulo = numero1 % numero2;\n",
    "\n",
    "printf(\"%d\", soma);\n",
    "printf(\"%d\", subtracao);\n",
    "printf(\"%d\", multiplicacao);\n",
    "printf(\"%f\", divisao);\n",
    "printf(\"%d\", modulo);\n",
    "```\n",
    "a saída será:\n",
    "30\n",
    "-10\n",
    "200\n",
    "0.500000\n",
    "10\n",
    "\n"
   ]
  },
  {
   "cell_type": "markdown",
   "metadata": {},
   "source": [
    "## 7.2 operadores relacionais\n",
    "\n",
    "os operadores relacionais em c são:\n",
    "- ==: igual (cuidado com o =, que é de atribuição), leia A == B como A é igual a B. leia A = B como A recebe B. \n",
    "- !=: diferente\n",
    "- >: maior\n",
    "- <: menor\n",
    "- >=: maior ou igual\n",
    "- <=: menor ou igual\n",
    "\n",
    "a ultilidade dos operadores relacionais será vista na aula 3.\n"
   ]
  },
  {
   "cell_type": "markdown",
   "metadata": {},
   "source": [
    "## 7.3 operadores lógicos\n",
    "\n",
    "os operadores lógicos em c são:\n",
    "- &&: e\n",
    "- ||: ou\n",
    "- !: não\n",
    "\n",
    "a ultilidade dos operadores lógicos será vista na aula 3."
   ]
  },
  {
   "cell_type": "markdown",
   "metadata": {},
   "source": [
    "## 7.4 operadores de atribuição\n",
    "\n",
    "os operadores de atribuição em c são:\n",
    "- =: atribuição\n",
    "- +=: soma\n",
    "- -=: subtração\n",
    "- *=: multiplicação\n",
    "- /=: divisão\n",
    "\n",
    "```c\n",
    "int numero = 10;\n",
    "numero += 5;\n",
    "printf(\"%d\", numero);\n",
    "```\n",
    "a saída será 15.\n",
    "\n",
    "```c\n",
    "int numero = 10;\n",
    "numero -= 5;\n",
    "printf(\"%d\", numero);\n",
    "```\n",
    "a saída será 5.\n",
    "\n",
    "```c\n",
    "int numero = 10;\n",
    "numero *= 5;\n",
    "printf(\"%d\", numero);\n",
    "```\n",
    "a saída será 50.\n",
    "\n",
    "```c\n",
    "int numero = 10;\n",
    "numero /= 5;\n",
    "printf(\"%d\", numero);\n",
    "```\n",
    "a saída será 2."
   ]
  },
  {
   "cell_type": "markdown",
   "metadata": {},
   "source": [
    "## 7.5 operadores unários\n",
    "\n",
    "os operadores unários em c são:\n",
    "- ++: incremento\n",
    "- --: decremento\n",
    "\n",
    "```c\n",
    "int numero = 10;\n",
    "numero++;\n",
    "printf(\"%d\", numero);\n",
    "```\n",
    "a saída será 11.\n",
    "\n",
    "```c\n",
    "int numero = 10;\n",
    "numero--;\n",
    "printf(\"%d\", numero);\n",
    "```\n",
    "a saída será 9."
   ]
  },
  {
   "cell_type": "markdown",
   "metadata": {},
   "source": [
    "## 8. boas práticas no uso de variáveis\n",
    "\n",
    "- use nomes de variáveis que façam sentido\n",
    "- use comentários para explicar o que o código faz\n",
    "- use identação para organizar o código\n",
    "- use nomes de variáveis em inglês\n",
    "- use nomes de variáveis que sejam fáceis de entender\n",
    "- use nomes de variáveis que sejam curtos\n",
    "- use nomes de variáveis que sejam descritivos"
   ]
  }
 ],
 "metadata": {
  "language_info": {
   "name": "python"
  }
 },
 "nbformat": 4,
 "nbformat_minor": 2
}
