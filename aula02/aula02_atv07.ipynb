{
 "cells": [
  {
   "cell_type": "markdown",
   "metadata": {},
   "source": [
    "## Implemente um programa que, dado o tamanho dos três lados de um triângulo, calcule a área utilizando a Fórmula de Heron:\n",
    "\n",
    "$$p = \\frac{a + b + c}{2}$$\n",
    "\n",
    "$$\\text{Área} = \\sqrt{p \\cdot (p - a) \\cdot (p - b) \\cdot (p - c)}$$\n",
    "\n",
    "\n",
    "utilize o especificador de formato %.6f na função printf\n",
    "\n",
    "use a função sqrt da biblioteca math.h para calcular a raiz quadrada"
   ]
  },
  {
   "cell_type": "markdown",
   "metadata": {},
   "source": [
    "entrada:\n",
    "\n",
    "4\n",
    "\n",
    "3\n",
    "\n",
    "5\n",
    "\n",
    "saída:\n",
    "6.0\n",
    "\n",
    "entrada:\n",
    "\n",
    "10\n",
    "\n",
    "12\n",
    "\n",
    "16\n",
    "\n",
    "saída:\n",
    "59.92"
   ]
  }
 ],
 "metadata": {
  "language_info": {
   "name": "python"
  }
 },
 "nbformat": 4,
 "nbformat_minor": 2
}
