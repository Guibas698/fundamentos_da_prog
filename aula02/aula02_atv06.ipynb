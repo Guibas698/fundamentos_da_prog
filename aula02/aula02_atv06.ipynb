{
 "cells": [
  {
   "cell_type": "markdown",
   "metadata": {},
   "source": [
    "## Implemente um programa que recebe a temperatura em graus Celsius e converte para Fahrenheit. O valor fornecido será fracionário (double).\n",
    "\n",
    "$$F = \\text{Celsius} \\times \\frac{9}{5} + 32$$\n"
   ]
  },
  {
   "cell_type": "markdown",
   "metadata": {},
   "source": [
    "entrada:43.000000\n",
    "\n",
    "saída:109.400000\n",
    "\n",
    "entrada:55.000000\n",
    "\n",
    "saída:131.000000\n",
    "\n",
    "entarda:99.000000\n",
    "\n",
    "saída:210.200000"
   ]
  }
 ],
 "metadata": {
  "language_info": {
   "name": "python"
  }
 },
 "nbformat": 4,
 "nbformat_minor": 2
}
