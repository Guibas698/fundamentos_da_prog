{
 "cells": [
  {
   "cell_type": "markdown",
   "metadata": {},
   "source": [
    "## Dada a fórmula da distância entre dois pontos e os valores x e y de cada ponto, imprima a distância entre os pontos com duas casas decimais.\n",
    "\n",
    "$$d = \\sqrt{(x_2 - x_1)^2 + (y_2 - y_1)^2}$$\n"
   ]
  },
  {
   "cell_type": "markdown",
   "metadata": {},
   "source": [
    "entrada:\n",
    "\n",
    "3\n",
    "\n",
    "7\n",
    "\n",
    "1\n",
    "\n",
    "4\n",
    "\n",
    "saída:\n",
    "3.61\n",
    "\n",
    "entrada:\n",
    "\n",
    "1\n",
    "\n",
    "8.2\n",
    "\n",
    "-4\n",
    "\n",
    "12\n",
    "\n",
    "saida:\n",
    "6.28"
   ]
  }
 ],
 "metadata": {
  "language_info": {
   "name": "python"
  }
 },
 "nbformat": 4,
 "nbformat_minor": 2
}
