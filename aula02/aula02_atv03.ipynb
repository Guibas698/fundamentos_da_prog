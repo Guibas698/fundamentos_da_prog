{
 "cells": [
  {
   "cell_type": "markdown",
   "metadata": {},
   "source": [
    "## Escreva um programa que recebe dois números inteiros e retorna a média aritmética deles."
   ]
  },
  {
   "cell_type": "markdown",
   "metadata": {},
   "source": [
    "entrada:\n",
    "2 2 \n",
    "\n",
    "saída:\n",
    "2.0\n",
    "\n",
    "entrada:\n",
    "3 5\n",
    "\n",
    "saída:\n",
    "4.0\n",
    "\n",
    "entrada:\n",
    "10 10\n",
    "\n",
    "saída:\n",
    "10.0"
   ]
  }
 ],
 "metadata": {
  "language_info": {
   "name": "python"
  }
 },
 "nbformat": 4,
 "nbformat_minor": 2
}
