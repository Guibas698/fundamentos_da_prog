{
 "cells": [
  {
   "cell_type": "markdown",
   "metadata": {},
   "source": [
    "## crie um programa que recebe três valores e exibe a soma entre eles"
   ]
  },
  {
   "cell_type": "markdown",
   "metadata": {},
   "source": [
    "Entrada:\n",
    "2 3 4\n",
    "\n",
    "Saída:\n",
    "9\n",
    "\n",
    "Entrada:\n",
    "-1 0 1\n",
    "\n",
    "\n",
    "Saída:\n",
    "0\n",
    "\n",
    "Entrada:\n",
    "0 0 0\n",
    "\n",
    "Saída:\n",
    "0\n",
    "\n",
    "Entrada:\n",
    "-1 -1 -1\n",
    "\n",
    "Saída:\n",
    "-3\n"
   ]
  }
 ],
 "metadata": {
  "language_info": {
   "name": "python"
  }
 },
 "nbformat": 4,
 "nbformat_minor": 2
}
