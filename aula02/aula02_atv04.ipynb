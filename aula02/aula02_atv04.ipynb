{
 "cells": [
  {
   "cell_type": "markdown",
   "metadata": {},
   "source": [
    "## Suponha a situação que uma pessoa recebe uma lista com o preço e a quantidade de três produtos que ela deve comprar. Ela recebe uma certa quantia em dinheiro que dar para comprar todos os produtos. Ela quer saber o quanto vai sobrar de dinheiro após a compra.\n",
    "\n",
    "Linhas 1, 2, 3: Quantidade dos 3 produtos\n",
    "\n",
    "Linhas 4, 5, 6: Valor dos 3 produtos\n",
    "\n",
    "Linha 7: Quantidade de dinheiro que a pessoa tem"
   ]
  },
  {
   "cell_type": "markdown",
   "metadata": {},
   "source": [
    "entrada:\n",
    "\n",
    "2\n",
    "\n",
    "8\n",
    "\n",
    "5\n",
    "\n",
    "1555.00\n",
    "\n",
    "4206.00\n",
    "\n",
    "761.00\n",
    "\n",
    "54771.87\n",
    "\n",
    "saída:\n",
    "\n",
    "14208.87\n",
    "\n",
    "entrada:\n",
    "\n",
    "9\n",
    "\n",
    "3\n",
    "\n",
    "5\n",
    "\n",
    "724.00\n",
    "\n",
    "3200.00\n",
    "\n",
    "3327.00\n",
    "\n",
    "49569.79\n",
    "\n",
    "\n",
    "saída:\n",
    "\n",
    "16818.79\n"
   ]
  }
 ],
 "metadata": {
  "language_info": {
   "name": "python"
  }
 },
 "nbformat": 4,
 "nbformat_minor": 2
}
