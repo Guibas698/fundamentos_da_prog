{
 "cells": [
  {
   "cell_type": "markdown",
   "metadata": {},
   "source": [
    "## faça um programa que calcula o quociente e o resto da divisão de dois números inteiros e imprime os resultados na tela\n",
    "\n",
    "ou seja sejam dois números inteiros a e b, o programa deve calcular o quociente e o resto da divisão de a por b e imprimir os resultados na tela"
   ]
  },
  {
   "cell_type": "markdown",
   "metadata": {},
   "source": [
    "entrada: \n",
    "5 2\n",
    "\n",
    "saída:\n",
    "2 1\n",
    "\n",
    "entrada:\n",
    "10 3\n",
    "\n",
    "saída:\n",
    "3 1\n",
    "\n",
    "entrada:\n",
    "8 2\n",
    "\n",
    "saída:\n",
    "4 0\n"
   ]
  }
 ],
 "metadata": {
  "language_info": {
   "name": "python"
  }
 },
 "nbformat": 4,
 "nbformat_minor": 2
}
